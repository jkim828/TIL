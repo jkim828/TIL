{
  "nbformat": 4,
  "nbformat_minor": 0,
  "metadata": {
    "colab": {
      "name": "자료의 요약과 Pandas 예제_0713.ipynb",
      "version": "0.3.2",
      "provenance": [],
      "private_outputs": true,
      "collapsed_sections": [],
      "include_colab_link": true
    },
    "kernelspec": {
      "name": "python3",
      "display_name": "Python 3"
    }
  },
  "cells": [
    {
      "cell_type": "markdown",
      "metadata": {
        "id": "view-in-github",
        "colab_type": "text"
      },
      "source": [
        "[View in Colaboratory](https://colab.research.google.com/github/jkim828/TIL/blob/master/%EC%9E%90%EB%A3%8C%EC%9D%98_%EC%9A%94%EC%95%BD%EA%B3%BC_Pandas_%EC%98%88%EC%A0%9C_0713.ipynb)"
      ]
    },
    {
      "metadata": {
        "id": "xgIky36ElHAG",
        "colab_type": "text"
      },
      "cell_type": "markdown",
      "source": [
        "# **jin kim** #\n"
      ]
    },
    {
      "metadata": {
        "id": "FnGZcZccjfA3",
        "colab_type": "code",
        "colab": {}
      },
      "cell_type": "code",
      "source": [
        "!pip install --upgrade -q gspread\n",
        "\n",
        "import pandas as pd\n",
        "\n",
        "from google.colab import auth\n",
        "\n",
        "auth.authenticate_user()\n",
        "\n",
        "import gspread\n",
        "from oauth2client.client import GoogleCredentials\n",
        "\n",
        "\n",
        "def get_sheet(title, sheet_name):\n",
        "  gc = gspread.authorize(GoogleCredentials.get_application_default())\n",
        "  return gc.open(title).worksheet(sheet_name)"
      ],
      "execution_count": 0,
      "outputs": []
    },
    {
      "metadata": {
        "id": "QA1i2lktp-yH",
        "colab_type": "text"
      },
      "cell_type": "markdown",
      "source": [
        "# 자료의 요약 시트 불러오기"
      ]
    },
    {
      "metadata": {
        "id": "Z65L_pz7Em-6",
        "colab_type": "code",
        "colab": {}
      },
      "cell_type": "code",
      "source": [
        "# 자료의 요약에 있는 특정 시트를 불러옵니다.\n",
        "# 1번 row를 0번 인덱스로 읽어오는 데, 0번 인덱스를 컬럼으로 지정해 주도록 했습니다.\n",
        "# 그러면 스프레드시트에서 봤던 것 처럼 데이터프레임이 생성됩니다.\n",
        "def get_df(sheet_name):\n",
        "  sheet = get_sheet('자료의 요약', sheet_name)\n",
        "\n",
        "  # Create dataframe from the sheet\n",
        "  rows = sheet.get_all_values()\n",
        "  df = pd.DataFrame.from_records(rows)\n",
        "\n",
        "  df.columns = df.iloc[0]\n",
        "  # 엑셀 첫번째 줄을 날리고 인덱스를 다시 만들어준다.\n",
        "  df = df.reindex(df.index.drop(0))\n",
        "  \n",
        "  return df"
      ],
      "execution_count": 0,
      "outputs": []
    },
    {
      "metadata": {
        "id": "Rg9jU-3pxkrD",
        "colab_type": "text"
      },
      "cell_type": "markdown",
      "source": [
        "# 혈액형"
      ]
    },
    {
      "metadata": {
        "id": "aqcIXpHqxj0T",
        "colab_type": "code",
        "colab": {}
      },
      "cell_type": "code",
      "source": [
        "df_blood = get_df('혈액형')\n",
        "# 상위 5개의 데이터를 가져옵니다.\n",
        "# shape는 몇열, 몇개의 데이터가 있는 지 알려준다.\n",
        "print(df_blood.shape)\n",
        "# head는 상위 5개만 보여줌\n",
        "# df. blood.tail(3)\n",
        "df_blood.head()"
      ],
      "execution_count": 0,
      "outputs": []
    },
    {
      "metadata": {
        "id": "dvL-GNVihfzF",
        "colab_type": "code",
        "colab": {}
      },
      "cell_type": "code",
      "source": [
        "df_blood"
      ],
      "execution_count": 0,
      "outputs": []
    },
    {
      "metadata": {
        "id": "cTxrnkenp66k",
        "colab_type": "text"
      },
      "cell_type": "markdown",
      "source": [
        "# 조선왕"
      ]
    },
    {
      "metadata": {
        "id": "M0T5cLsllz1P",
        "colab_type": "code",
        "colab": {}
      },
      "cell_type": "code",
      "source": [
        "df_king = get_df('조선왕')\n",
        "# 상위 5개의 데이터를 가져옵니다.\n",
        "print(df_king.shape)\n",
        "df_king.tail(3)"
      ],
      "execution_count": 0,
      "outputs": []
    },
    {
      "metadata": {
        "id": "Ac3MgOQSmAg-",
        "colab_type": "code",
        "colab": {}
      },
      "cell_type": "code",
      "source": [
        "# 어떤 컬럼이 있고 데이터의 row, column 수, 데이터 타입을 볼 수 있다.\n",
        "df_king.info()"
      ],
      "execution_count": 0,
      "outputs": []
    },
    {
      "metadata": {
        "id": "gImNQuVrnYlo",
        "colab_type": "code",
        "colab": {}
      },
      "cell_type": "code",
      "source": [
        "df_king.describe()"
      ],
      "execution_count": 0,
      "outputs": []
    },
    {
      "metadata": {
        "id": "04EQOy7CnJMh",
        "colab_type": "code",
        "colab": {}
      },
      "cell_type": "code",
      "source": [
        "# 데이터 타입을 int로 변경해 준다.\n",
        "# 아래 변수 int는 float로 바꾸면 데이터가 바뀐다.\n",
        "df_king['life'] = df_king['life'].astype(int)\n",
        "df_king['period'] = df_king['period'].astype(int)\n",
        "# 위와 describe() 했을 때의 정보가 다르다. \n",
        "# 수치형 데이터 일 때 count, mean, std, min/max, 사분위수를 보여준다.\n",
        "df_king.describe()"
      ],
      "execution_count": 0,
      "outputs": []
    },
    {
      "metadata": {
        "id": "cjYrTRvareU8",
        "colab_type": "code",
        "colab": {}
      },
      "cell_type": "code",
      "source": [
        "# 결측치를 보고 싶을 때 널값을 구해 본다.\n",
        "df_king.isnull().sum()"
      ],
      "execution_count": 0,
      "outputs": []
    },
    {
      "metadata": {
        "id": "U10pHKZYsuPk",
        "colab_type": "code",
        "colab": {}
      },
      "cell_type": "code",
      "source": [
        "# 가장 오래 집권한 왕순으로 정렬해 보고 상위 5개의 데이터만 본다.\n",
        "# sort_value 사용\n",
        "# head(5)는 위에서 다섯개만 보여준다.\n",
        "df_king.sort_values(by='period', ascending=False).head(5)"
      ],
      "execution_count": 0,
      "outputs": []
    },
    {
      "metadata": {
        "id": "qRQ6isGes-Xf",
        "colab_type": "code",
        "colab": {}
      },
      "cell_type": "code",
      "source": [
        "# 평균값만 본다.\n",
        "df_king.mean()"
      ],
      "execution_count": 0,
      "outputs": []
    },
    {
      "metadata": {
        "id": "meNs10dntD4M",
        "colab_type": "code",
        "colab": {}
      },
      "cell_type": "code",
      "source": [
        "# 표준편차만 본다.\n",
        "df_king.std()"
      ],
      "execution_count": 0,
      "outputs": []
    },
    {
      "metadata": {
        "id": "V_NNcznBtXfy",
        "colab_type": "code",
        "colab": {}
      },
      "cell_type": "code",
      "source": [
        "# 최대값만 본다. 효종이 나온 이유는 한글 중에 가장 뒤에 있기 때문\n",
        "# life, period도 각 컬럼에서 최대값\n",
        "df_king.max()"
      ],
      "execution_count": 0,
      "outputs": []
    },
    {
      "metadata": {
        "id": "36aLsY9otcle",
        "colab_type": "code",
        "colab": {}
      },
      "cell_type": "code",
      "source": [
        "df_king['period'].max()"
      ],
      "execution_count": 0,
      "outputs": []
    },
    {
      "metadata": {
        "id": "hOdI7ksoq-Ou",
        "colab_type": "code",
        "colab": {}
      },
      "cell_type": "code",
      "source": [
        "df_king['life'].plot()"
      ],
      "execution_count": 0,
      "outputs": []
    },
    {
      "metadata": {
        "id": "HyLFCNoLpxtS",
        "colab_type": "code",
        "colab": {}
      },
      "cell_type": "code",
      "source": [
        "df_king['life'].hist()"
      ],
      "execution_count": 0,
      "outputs": []
    },
    {
      "metadata": {
        "id": "jRsfMFhyqlmp",
        "colab_type": "code",
        "colab": {}
      },
      "cell_type": "code",
      "source": [
        "df_king['period'].hist(stacked=True, bins=10)"
      ],
      "execution_count": 0,
      "outputs": []
    },
    {
      "metadata": {
        "id": "VuBj0N6wpyox",
        "colab_type": "text"
      },
      "cell_type": "markdown",
      "source": [
        "# 타이타닉"
      ]
    },
    {
      "metadata": {
        "id": "AIleTOPdlKra",
        "colab_type": "code",
        "colab": {}
      },
      "cell_type": "code",
      "source": [
        "df_titanic = get_df('타이타닉')\n",
        "print(df_titanic.shape)\n",
        "# 상위 5개의 데이터를 가져옵니다.\n",
        "df_titanic.head()"
      ],
      "execution_count": 0,
      "outputs": []
    },
    {
      "metadata": {
        "id": "YKKFIPGQZ1Tt",
        "colab_type": "code",
        "colab": {}
      },
      "cell_type": "code",
      "source": [
        "# columns로 어떤 컬럼이 있는지 보여줍니다.\n",
        "df_titanic.columns"
      ],
      "execution_count": 0,
      "outputs": []
    },
    {
      "metadata": {
        "id": "AZa4ciw4l33E",
        "colab_type": "code",
        "colab": {}
      },
      "cell_type": "code",
      "source": [
        "# 컬럼 정보를 보여줍니다.\n",
        "df_titanic.info()"
      ],
      "execution_count": 0,
      "outputs": []
    },
    {
      "metadata": {
        "id": "S-QZdW8Hl4Tf",
        "colab_type": "code",
        "colab": {}
      },
      "cell_type": "code",
      "source": [
        "# 자료의 요약을 보여줍니다.\n",
        "df_titanic.describe()"
      ],
      "execution_count": 0,
      "outputs": []
    },
    {
      "metadata": {
        "id": "ql9I3BkkL23U",
        "colab_type": "code",
        "colab": {}
      },
      "cell_type": "code",
      "source": [
        "df_titanic['Class'].value_counts()"
      ],
      "execution_count": 0,
      "outputs": []
    },
    {
      "metadata": {
        "id": "-EZ59H4PZNGT",
        "colab_type": "code",
        "colab": {}
      },
      "cell_type": "code",
      "source": [
        "df_titanic['생존여부'].value_counts()"
      ],
      "execution_count": 0,
      "outputs": []
    },
    {
      "metadata": {
        "id": "GmigL_TkXsba",
        "colab_type": "text"
      },
      "cell_type": "markdown",
      "source": [
        "# **포유류**"
      ]
    },
    {
      "metadata": {
        "id": "1e9siYHpXyNq",
        "colab_type": "code",
        "colab": {}
      },
      "cell_type": "code",
      "source": [
        "df_animal = get_df('포유류')\n",
        "print (df_animal.shape)\n",
        "df_animal.tail(3)"
      ],
      "execution_count": 0,
      "outputs": []
    },
    {
      "metadata": {
        "id": "WNDnOoLdY05o",
        "colab_type": "code",
        "colab": {}
      },
      "cell_type": "code",
      "source": [
        "df_animal.info()"
      ],
      "execution_count": 0,
      "outputs": []
    },
    {
      "metadata": {
        "id": "SFZ0dg8HY_mm",
        "colab_type": "code",
        "colab": {}
      },
      "cell_type": "code",
      "source": [
        "df_animal.describe()"
      ],
      "execution_count": 0,
      "outputs": []
    },
    {
      "metadata": {
        "id": "1LIZ3jr4ZL88",
        "colab_type": "code",
        "colab": {}
      },
      "cell_type": "code",
      "source": [
        "df_animal.isnull().sum()"
      ],
      "execution_count": 0,
      "outputs": []
    },
    {
      "metadata": {
        "id": "GNpgY-YrZggf",
        "colab_type": "code",
        "colab": {}
      },
      "cell_type": "code",
      "source": [
        "df_animal.sort_values(by='몸무게', ascending=False).head(5)"
      ],
      "execution_count": 0,
      "outputs": []
    },
    {
      "metadata": {
        "id": "Aknr5Xcba_dE",
        "colab_type": "code",
        "colab": {}
      },
      "cell_type": "code",
      "source": [
        "df_animal['몸무게'] = df_animal['몸무게'].astype(float)\n",
        "df_animal['뇌무게'] = df_animal['뇌무게'].astype(float)\n",
        "\n",
        "df_animal.describe()"
      ],
      "execution_count": 0,
      "outputs": []
    },
    {
      "metadata": {
        "id": "goKfGwflZ-tR",
        "colab_type": "code",
        "colab": {}
      },
      "cell_type": "code",
      "source": [
        "df_animal[['몸무게', '뇌무게']].mean()"
      ],
      "execution_count": 0,
      "outputs": []
    },
    {
      "metadata": {
        "id": "VzU6cw9XVOii",
        "colab_type": "code",
        "colab": {}
      },
      "cell_type": "code",
      "source": [
        "df_animal.mean()"
      ],
      "execution_count": 0,
      "outputs": []
    },
    {
      "metadata": {
        "id": "1VqZu-0HcOmK",
        "colab_type": "code",
        "colab": {}
      },
      "cell_type": "code",
      "source": [
        "df_animal['뇌무게'].std()"
      ],
      "execution_count": 0,
      "outputs": []
    },
    {
      "metadata": {
        "id": "gZVt-WWichEC",
        "colab_type": "code",
        "colab": {}
      },
      "cell_type": "code",
      "source": [
        "df_animal['몸무게'].max()"
      ],
      "execution_count": 0,
      "outputs": []
    },
    {
      "metadata": {
        "id": "Y0RS7yiYdiuG",
        "colab_type": "code",
        "colab": {}
      },
      "cell_type": "code",
      "source": [
        "df_animal['뇌무게'].plot()"
      ],
      "execution_count": 0,
      "outputs": []
    },
    {
      "metadata": {
        "id": "Im5gpzeD3EPG",
        "colab_type": "code",
        "colab": {}
      },
      "cell_type": "code",
      "source": [
        "df_animal['몸무게'].plot()"
      ],
      "execution_count": 0,
      "outputs": []
    },
    {
      "metadata": {
        "id": "figVpFAW3Ivw",
        "colab_type": "code",
        "colab": {}
      },
      "cell_type": "code",
      "source": [
        "df_animal['몸무게'].hist()"
      ],
      "execution_count": 0,
      "outputs": []
    },
    {
      "metadata": {
        "id": "TWjrfgGk3OWd",
        "colab_type": "code",
        "colab": {}
      },
      "cell_type": "code",
      "source": [
        "df_animal['뇌무게'].hist()"
      ],
      "execution_count": 0,
      "outputs": []
    },
    {
      "metadata": {
        "id": "l7M-t8ek3TMR",
        "colab_type": "code",
        "colab": {}
      },
      "cell_type": "code",
      "source": [
        "df_animal['뇌무게'].hist(stacked=True, bins=10)"
      ],
      "execution_count": 0,
      "outputs": []
    },
    {
      "metadata": {
        "id": "T13VXRR53e2Z",
        "colab_type": "code",
        "colab": {}
      },
      "cell_type": "code",
      "source": [
        "df_animal['뇌무게'].value_counts"
      ],
      "execution_count": 0,
      "outputs": []
    },
    {
      "metadata": {
        "id": "xyj36KHa3lBG",
        "colab_type": "code",
        "colab": {}
      },
      "cell_type": "code",
      "source": [
        "df_animal.describe()"
      ],
      "execution_count": 0,
      "outputs": []
    },
    {
      "metadata": {
        "id": "UlVIsxa44DhK",
        "colab_type": "text"
      },
      "cell_type": "markdown",
      "source": [
        "# **화장지 불량률**"
      ]
    },
    {
      "metadata": {
        "id": "lrzaZ9043wAX",
        "colab_type": "code",
        "colab": {}
      },
      "cell_type": "code",
      "source": [
        "df_paper = get_df('화장지 불량률')\n",
        "print (df_paper.shape)\n",
        "df_paper.head(5)\n",
        "df_paper.columns\n",
        "# df_paper.describe()"
      ],
      "execution_count": 0,
      "outputs": []
    },
    {
      "metadata": {
        "id": "K8-etJB540Js",
        "colab_type": "code",
        "colab": {}
      },
      "cell_type": "code",
      "source": [
        "df_paper.info()"
      ],
      "execution_count": 0,
      "outputs": []
    },
    {
      "metadata": {
        "id": "KkCeuOFg43VM",
        "colab_type": "code",
        "colab": {}
      },
      "cell_type": "code",
      "source": [
        "df_paper.describe()"
      ],
      "execution_count": 0,
      "outputs": []
    },
    {
      "metadata": {
        "id": "RQgcxLuQ2VFk",
        "colab_type": "code",
        "colab": {}
      },
      "cell_type": "code",
      "source": [
        "df_paper['화장지 불량 종류'].value_counts()"
      ],
      "execution_count": 0,
      "outputs": []
    },
    {
      "metadata": {
        "id": "vvd-ORMNl72-",
        "colab_type": "code",
        "colab": {}
      },
      "cell_type": "code",
      "source": [
        "df_paper['화장지 불량 종류'].hist()"
      ],
      "execution_count": 0,
      "outputs": []
    },
    {
      "metadata": {
        "id": "w0pg127PT1Xn",
        "colab_type": "text"
      },
      "cell_type": "markdown",
      "source": [
        "# **GNP**"
      ]
    },
    {
      "metadata": {
        "id": "weU-OAa1T5CY",
        "colab_type": "code",
        "colab": {}
      },
      "cell_type": "code",
      "source": [
        "df_gnp = get_df('GNP')\n",
        "print(df_gnp.shape)\n",
        "# head / tail\n",
        "df_gnp.head()"
      ],
      "execution_count": 0,
      "outputs": []
    },
    {
      "metadata": {
        "id": "6O2EpLX336Zt",
        "colab_type": "code",
        "colab": {}
      },
      "cell_type": "code",
      "source": [
        "df_gnp.info()"
      ],
      "execution_count": 0,
      "outputs": []
    },
    {
      "metadata": {
        "id": "SdiSsLyd3-xC",
        "colab_type": "code",
        "colab": {}
      },
      "cell_type": "code",
      "source": [
        "df_gnp.describe()"
      ],
      "execution_count": 0,
      "outputs": []
    },
    {
      "metadata": {
        "id": "zzw2pXKN4EuI",
        "colab_type": "code",
        "colab": {}
      },
      "cell_type": "code",
      "source": [
        "df_gnp.isnull().sum()"
      ],
      "execution_count": 0,
      "outputs": []
    },
    {
      "metadata": {
        "id": "difO4vG74J7E",
        "colab_type": "code",
        "colab": {}
      },
      "cell_type": "code",
      "source": [
        "df_gnp.sort_values(by='GNP대비 교육비 지출 비율', ascending=False)"
      ],
      "execution_count": 0,
      "outputs": []
    },
    {
      "metadata": {
        "id": "SoJMk_LJ4S-d",
        "colab_type": "code",
        "colab": {}
      },
      "cell_type": "code",
      "source": [
        "df_gnp.sort_values(by='GNP대비 교육비 지출 비율', ascending=True)"
      ],
      "execution_count": 0,
      "outputs": []
    },
    {
      "metadata": {
        "id": "du4GTBrX4ZyB",
        "colab_type": "code",
        "colab": {}
      },
      "cell_type": "code",
      "source": [
        "df_gnp['GNP대비 교육비 지출 비율'].std()"
      ],
      "execution_count": 0,
      "outputs": []
    },
    {
      "metadata": {
        "id": "m5Oc1YCe4yOg",
        "colab_type": "code",
        "colab": {}
      },
      "cell_type": "code",
      "source": [
        "df_gnp['GNP대비 교육비 지출 비율'] = df_gnp['GNP대비 교육비 지출 비율'].astype(float)\n",
        "df_gnp.describe()"
      ],
      "execution_count": 0,
      "outputs": []
    },
    {
      "metadata": {
        "id": "Eec2cXf15SnR",
        "colab_type": "code",
        "colab": {}
      },
      "cell_type": "code",
      "source": [
        "df_gnp['GNP대비 교육비 지출 비율'].mean()"
      ],
      "execution_count": 0,
      "outputs": []
    },
    {
      "metadata": {
        "id": "Ei7wj0Ub5aop",
        "colab_type": "code",
        "colab": {}
      },
      "cell_type": "code",
      "source": [
        "df_gnp['GNP대비 교육비 지출 비율'].hist()"
      ],
      "execution_count": 0,
      "outputs": []
    },
    {
      "metadata": {
        "id": "OgxlG8xY5iWz",
        "colab_type": "code",
        "colab": {}
      },
      "cell_type": "code",
      "source": [
        "df_gnp['GNP대비 교육비 지출 비율'].plot()"
      ],
      "execution_count": 0,
      "outputs": []
    },
    {
      "metadata": {
        "id": "Mb-vquG15mr0",
        "colab_type": "code",
        "colab": {}
      },
      "cell_type": "code",
      "source": [
        "df_gnp['GNP대비 교육비 지출 비율'].hist(stacked=True, bins = 10)"
      ],
      "execution_count": 0,
      "outputs": []
    },
    {
      "metadata": {
        "id": "QevY49aR56d2",
        "colab_type": "text"
      },
      "cell_type": "markdown",
      "source": [
        "## What does 'bins' mean? ##"
      ]
    },
    {
      "metadata": {
        "id": "LunaU7I35uIJ",
        "colab_type": "code",
        "colab": {}
      },
      "cell_type": "code",
      "source": [
        "df_gnp['GNP대비 교육비 지출 비율'].hist(stacked=True, bins = 50)"
      ],
      "execution_count": 0,
      "outputs": []
    },
    {
      "metadata": {
        "id": "wgDPrROT5280",
        "colab_type": "code",
        "colab": {}
      },
      "cell_type": "code",
      "source": [
        "df_gnp['GNP대비 교육비 지출 비율'].hist(stacked=True, bins = 30)"
      ],
      "execution_count": 0,
      "outputs": []
    },
    {
      "metadata": {
        "id": "dzfp25Yb6F6f",
        "colab_type": "text"
      },
      "cell_type": "markdown",
      "source": [
        "# **집값** #"
      ]
    },
    {
      "metadata": {
        "id": "UzxHB7tj6LOx",
        "colab_type": "code",
        "colab": {}
      },
      "cell_type": "code",
      "source": [
        " df_rentfee = get_df('집 값')\n",
        "print(df_rentfee.shape)\n",
        "df_rentfee.head()"
      ],
      "execution_count": 0,
      "outputs": []
    },
    {
      "metadata": {
        "id": "9kQksU2D6sWm",
        "colab_type": "code",
        "colab": {}
      },
      "cell_type": "code",
      "source": [
        "df_rentfee.info()"
      ],
      "execution_count": 0,
      "outputs": []
    },
    {
      "metadata": {
        "id": "N89wHvZi6vuK",
        "colab_type": "code",
        "colab": {}
      },
      "cell_type": "code",
      "source": [
        "df_rentfee['주택가격'] = df_rentfee['주택가격'].astype(float)\n",
        "df_rentfee.describe()"
      ],
      "execution_count": 0,
      "outputs": []
    },
    {
      "metadata": {
        "id": "e_zJvOMJ7Be_",
        "colab_type": "code",
        "colab": {}
      },
      "cell_type": "code",
      "source": [
        "df_rentfee.mean()"
      ],
      "execution_count": 0,
      "outputs": []
    },
    {
      "metadata": {
        "id": "HAHm9GMeqV9y",
        "colab_type": "code",
        "colab": {}
      },
      "cell_type": "code",
      "source": [
        "df_rentfee.groupby('도심&외각').mean()"
      ],
      "execution_count": 0,
      "outputs": []
    },
    {
      "metadata": {
        "id": "-MMlJkHJWGOo",
        "colab_type": "code",
        "colab": {}
      },
      "cell_type": "code",
      "source": [
        ""
      ],
      "execution_count": 0,
      "outputs": []
    },
    {
      "metadata": {
        "id": "DqLjEM9IpZ0u",
        "colab_type": "code",
        "colab": {}
      },
      "cell_type": "code",
      "source": [
        "df_rentfee.info()"
      ],
      "execution_count": 0,
      "outputs": []
    },
    {
      "metadata": {
        "id": "TZQYRDvx7HG4",
        "colab_type": "code",
        "colab": {}
      },
      "cell_type": "code",
      "source": [
        "df_rentfee['주택가격'].sum()"
      ],
      "execution_count": 0,
      "outputs": []
    },
    {
      "metadata": {
        "id": "kNce1Bbi7SV8",
        "colab_type": "code",
        "colab": {}
      },
      "cell_type": "code",
      "source": [
        "df_rentfee['주택가격'].max()"
      ],
      "execution_count": 0,
      "outputs": []
    },
    {
      "metadata": {
        "id": "hr4cwsIY7lAW",
        "colab_type": "code",
        "colab": {}
      },
      "cell_type": "code",
      "source": [
        "df_rentfee.sort_values(by='주택가격', ascending=False)"
      ],
      "execution_count": 0,
      "outputs": []
    },
    {
      "metadata": {
        "id": "4UqSCfxA71t0",
        "colab_type": "code",
        "colab": {}
      },
      "cell_type": "code",
      "source": [
        "df_rentfee['주택가격'].plot()"
      ],
      "execution_count": 0,
      "outputs": []
    },
    {
      "metadata": {
        "id": "c-8-oEnu750x",
        "colab_type": "code",
        "colab": {}
      },
      "cell_type": "code",
      "source": [
        "df_rentfee['주택가격'].hist()"
      ],
      "execution_count": 0,
      "outputs": []
    }
  ]
}